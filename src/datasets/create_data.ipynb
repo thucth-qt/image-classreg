{
 "cells": [
  {
   "cell_type": "code",
   "execution_count": 7,
   "metadata": {},
   "outputs": [
    {
     "name": "stdout",
     "output_type": "stream",
     "text": [
      "/home/thucth/thucth/project/id_occlusion\n"
     ]
    }
   ],
   "source": [
    "%cd /home/thucth/thucth/project/id_occlusion"
   ]
  },
  {
   "cell_type": "markdown",
   "metadata": {},
   "source": [
    "## Prepare dataset\n",
    "\n",
    "```\n",
    "Create csv file with path _ label(float score)\n",
    "\n",
    "Description:\n",
    "- Dataset with multi level:\n",
    "0: no occlusion (or occluded area is out of id)\n",
    "1: 10% occlusion\n",
    "2: 20% occlusion\n",
    "3: 30% occlusion\n",
    "4: 40% occlusion\n",
    "5: 50% occlusion\n",
    ".\n",
    ".\n",
    "```"
   ]
  },
  {
   "cell_type": "markdown",
   "metadata": {},
   "source": [
    "### Inherit data from IQ006"
   ]
  },
  {
   "cell_type": "code",
   "execution_count": 1,
   "metadata": {},
   "outputs": [],
   "source": [
    "import pandas as pd\n",
    "import json \n",
    "categories_new = [\n",
    "    {\"id\": 1, \"name\": 'corner_1'},\n",
    "    {\"id\": 2, \"name\": 'corner_2'},\n",
    "    {\"id\": 3, \"name\": 'corner_3'},\n",
    "    {\"id\": 4, \"name\": 'corner_4'},\n",
    "    {\"id\": 5, \"name\": 'full'}\n",
    "]\n",
    "\n",
    "categories_map = {\n",
    "    '1': 1,\n",
    "    '2': 2,\n",
    "    '3': 3,\n",
    "    '4': 4,\n",
    "    'full': 5\n",
    "}\n",
    "\n",
    "categories_map_inverse = {\n",
    "    1: \"1\",\n",
    "    2: \"2\",\n",
    "    3: \"3\",\n",
    "    4: \"4\",\n",
    "    5: \"full\"\n",
    "}\n"
   ]
  },
  {
   "cell_type": "code",
   "execution_count": 27,
   "metadata": {},
   "outputs": [],
   "source": [
    "import json\n",
    "def read_from_cocojson(path_json):\n",
    "    images_dict={}\n",
    "    with open(path_json, 'r') as f:\n",
    "        data = json.load(f)\n",
    "        for ann in data['annotations']:\n",
    "            if ann[\"image_id\"] not in images_dict:\n",
    "                images_dict[ann[\"image_id\"]]={\"bbox\":{}}\n",
    "            corner_type = categories_map_inverse[ann[\"category_id\"]]\n",
    "            #this is to convert from coco format into voc format\n",
    "            images_dict[ann[\"image_id\"]][\"bbox\"][corner_type] = [ann[\"bbox\"][0], ann[\"bbox\"][1], ann[\"bbox\"][2]+ann[\"bbox\"][0], ann[\"bbox\"][3]+ann[\"bbox\"][1]]\n",
    "\n",
    "        for img in data['images']:\n",
    "            images_dict[img['id']][\"path\"]= img[\"file_name\"]\n",
    "            images_dict[img['id']][\"width\"] = img[\"width\"]\n",
    "            images_dict[img['id']][\"height\"] = img[\"height\"]\n",
    "    voc_data = [images_dict[k] for k in images_dict.keys()]\n",
    "    return voc_data"
   ]
  },
  {
   "cell_type": "markdown",
   "metadata": {},
   "source": [
    "### generate clear id"
   ]
  },
  {
   "cell_type": "code",
   "execution_count": 17,
   "metadata": {},
   "outputs": [],
   "source": [
    "import csv\n",
    "def generate_data_clear(voc_data, path_csv):\n",
    "    print(\"Amount of source: \", len(voc_data))\n",
    "    count=0\n",
    "    f = open(path_csv, 'w')\n",
    "    csv_writer = csv.writer(f)\n",
    "    csv_writer.writerow(['path','score'])\n",
    "    for sample in voc_data:\n",
    "        if  len(sample['bbox'].keys())==5: #full corner\n",
    "            csv_writer.writerow([sample['path'], 0])\n",
    "            count+=1\n",
    "    print(\"Amount of target: \", count)\n",
    "    f.close()\n",
    "\n",
    "split='val'\n",
    "voc_data = read_from_cocojson(path_json = \"/home/thucth/thucth/project/id_fullcorner_dataprocess/json_data/original_size_%s_2702.json\"%split)\n",
    "generate_data_clear(voc_data, \"resources/data_occlusion_%s.csv\"%split)"
   ]
  },
  {
   "cell_type": "markdown",
   "metadata": {},
   "source": [
    "### generate occluded id"
   ]
  },
  {
   "cell_type": "code",
   "execution_count": 26,
   "metadata": {},
   "outputs": [
    {
     "name": "stdout",
     "output_type": "stream",
     "text": [
      "Amount of source:  950\n",
      "Amount of target:  858\n"
     ]
    }
   ],
   "source": [
    "from src.datasets import augment\n",
    "import cv2\n",
    "import importlib\n",
    "importlib.reload(augment)\n",
    "\n",
    "\n",
    "foregrounds = augment.load_foreground(path=\"./resources/foreground\")\n"
   ]
  }
 ],
 "metadata": {
  "kernelspec": {
   "display_name": "Python 3 (ipykernel)",
   "language": "python",
   "name": "python3"
  },
  "language_info": {
   "codemirror_mode": {
    "name": "ipython",
    "version": 3
   },
   "file_extension": ".py",
   "mimetype": "text/x-python",
   "name": "python",
   "nbconvert_exporter": "python",
   "pygments_lexer": "ipython3",
   "version": "3.9.12"
  },
  "orig_nbformat": 4,
  "vscode": {
   "interpreter": {
    "hash": "916dbcbb3f70747c44a77c7bcd40155683ae19c65e1c03b4aa3499c5328201f1"
   }
  }
 },
 "nbformat": 4,
 "nbformat_minor": 2
}
